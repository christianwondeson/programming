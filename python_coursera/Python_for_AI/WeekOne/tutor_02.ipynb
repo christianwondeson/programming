{
 "cells": [
  {
   "cell_type": "code",
   "execution_count": 14,
   "id": "dc1c148c-24bf-415f-a782-eb4c2233758a",
   "metadata": {},
   "outputs": [
    {
     "name": "stdout",
     "output_type": "stream",
     "text": [
      "number 2 is even\n",
      "number 4 is even\n",
      "number 6 is even\n",
      "number 8 is even\n",
      "number 10 is even\n",
      "number 12 is even\n",
      "number 14 is even\n",
      "number 16 is even\n",
      "number 18 is even\n"
     ]
    }
   ],
   "source": [
    "for num in range(1, 20):\n",
    "    if num % 2 == 0:\n",
    "        print(\"number {} is even\".format(num))\n",
    "    else:\n",
    "        continue\n",
    "        # print(\"number {} is odd\".format(num))"
   ]
  },
  {
   "cell_type": "code",
   "execution_count": null,
   "id": "775dda64-2040-4e10-9ae0-e805e3052b4f",
   "metadata": {},
   "outputs": [],
   "source": [
    "THIS CODE WILL CALCULATE SIMPLE USER INPUT INVESTMENT!!"
   ]
  },
  {
   "cell_type": "code",
   "execution_count": 6,
   "id": "7a69e59f-604b-4bfb-a4c9-90fb52598a4e",
   "metadata": {},
   "outputs": [
    {
     "name": "stdin",
     "output_type": "stream",
     "text": [
      "please enter your money to invest: 1000\n",
      "Please enter interest rate: 5\n"
     ]
    },
    {
     "name": "stdout",
     "output_type": "stream",
     "text": [
      "Money plus interest_rate: 1628.89\n"
     ]
    }
   ],
   "source": [
    "money = input(\"please enter your money to invest:\")\n",
    "interest_rate = input(\"Please enter interest rate:\")\n",
    "\n",
    "money = float(money)\n",
    "interest_rate = float(interest_rate) * .01\n",
    "\n",
    "for year in range(10):\n",
    "    money = money + (money * interest_rate)\n",
    "\n",
    "print(\"Money plus interest_rate: {:.2f}\".format(money))"
   ]
  },
  {
   "cell_type": "code",
   "execution_count": null,
   "id": "29e5bbac-557e-4fd1-bda2-4f8817119ae8",
   "metadata": {},
   "outputs": [],
   "source": [
    "USING WHILE LOOPS IN PYTHON TO FIND RANDOM NUMBER"
   ]
  },
  {
   "cell_type": "code",
   "execution_count": 13,
   "id": "feb18546-4252-405a-9a80-64812474bc46",
   "metadata": {},
   "outputs": [
    {
     "name": "stdout",
     "output_type": "stream",
     "text": [
      "the random value is : 18\n"
     ]
    }
   ],
   "source": [
    "import random\n",
    "\n",
    "random_num = random.randrange(1, 51)\n",
    "\n",
    "i = 1\n",
    "while(i != random_num):\n",
    "    i += 1\n",
    "print(\"the random value is :\", random_num)"
   ]
  },
  {
   "cell_type": "code",
   "execution_count": null,
   "id": "1cf853cd-a26e-46ba-b54e-bcfa42376ba8",
   "metadata": {},
   "outputs": [],
   "source": [
    "LET US PRINT TREE"
   ]
  },
  {
   "cell_type": "code",
   "execution_count": 17,
   "id": "1590cee6-3d43-445f-9211-b57e8e3eae6f",
   "metadata": {},
   "outputs": [
    {
     "name": "stdin",
     "output_type": "stream",
     "text": [
      "Please enter tree height :  5\n"
     ]
    },
    {
     "name": "stdout",
     "output_type": "stream",
     "text": [
      "    #\n",
      "   ###\n",
      "  #####\n",
      " #######\n",
      "#########\n",
      "    #\n"
     ]
    }
   ],
   "source": [
    "tree_height = input(\"Please enter tree height : \")\n",
    "tree_height = int(tree_height)\n",
    "\n",
    "spaces = tree_height - 1\n",
    "\n",
    "hashes = 1\n",
    "\n",
    "stump_space = spaces\n",
    "\n",
    "while tree_height != 0:\n",
    "    for space in range(spaces):\n",
    "        print(\" \", end=\"\")\n",
    "    for hash in range(hashes):\n",
    "        print(\"#\", end=\"\")\n",
    "    print()\n",
    "    spaces -= 1\n",
    "    hashes += 2\n",
    "    tree_height -= 1\n",
    "for i in range(stump_space):\n",
    "    print(\" \", end=\"\")\n",
    "print(\"#\")"
   ]
  },
  {
   "cell_type": "code",
   "execution_count": 5,
   "id": "69f74d2c-9aa0-41c3-84ee-4f2beb2aac26",
   "metadata": {},
   "outputs": [
    {
     "name": "stdin",
     "output_type": "stream",
     "text": [
      "please enter a number b/n 1 and 10 1\n"
     ]
    },
    {
     "name": "stdout",
     "output_type": "stream",
     "text": [
      "you didn't find it! guess again!\n"
     ]
    },
    {
     "name": "stdin",
     "output_type": "stream",
     "text": [
      "please enter a number b/n 1 and 10 5\n"
     ]
    },
    {
     "name": "stdout",
     "output_type": "stream",
     "text": [
      "the number is found congrats!\n"
     ]
    }
   ],
   "source": [
    "the_number = 5\n",
    "while True:\n",
    "    guessed_number = int(input(\"please enter a number b/n 1 and 10\"))\n",
    "    if the_number == guessed_number:\n",
    "        print(\"the number is found congrats!\")\n",
    "        break\n",
    "    else:\n",
    "        print(\"you didn't find it! guess again!\")\n",
    "        continue\n",
    "        "
   ]
  },
  {
   "cell_type": "code",
   "execution_count": 25,
   "id": "157b87f1-a6f9-4e6b-969a-61d5b4e8ad46",
   "metadata": {},
   "outputs": [
    {
     "name": "stdin",
     "output_type": "stream",
     "text": [
      "Please enter your string to convert it to ASCII equivalent:  hide number\n"
     ]
    },
    {
     "name": "stdout",
     "output_type": "stream",
     "text": [
      "[104, 105, 100, 101, 32, 110, 117, 109, 98, 101, 114]\n",
      "hide number\n"
     ]
    }
   ],
   "source": [
    "str_input = input(\"Please enter your string to convert it to ASCII equivalent: \").upper()\n",
    "ascii_equivalent = [ord(char) for char in str_input]\n",
    "print(ascii_equivalent)\n",
    "print(\"\".join(map(chr, ascii_equivalent)))"
   ]
  },
  {
   "cell_type": "code",
   "execution_count": 34,
   "id": "382b452e-d768-4b06-84ee-78dde8767a44",
   "metadata": {},
   "outputs": [
    {
     "name": "stdin",
     "output_type": "stream",
     "text": [
      "please enter the string to be achronymed :  hrle me nigg\n"
     ]
    },
    {
     "name": "stdout",
     "output_type": "stream",
     "text": [
      "HMN\n"
     ]
    }
   ],
   "source": [
    "input_str = input(\"please enter the string to be achronymed : \").upper()\n",
    "\n",
    "list_str = list(input_str)\n",
    "acronym = \"\"\n",
    "for i in range(len(list_str)):\n",
    "    if i == 0:\n",
    "        acronym = list_str[i]\n",
    "    elif list_str[i] == \" \":\n",
    "        acronym += list_str[i + 1]\n",
    "print(acronym)"
   ]
  },
  {
   "cell_type": "code",
   "execution_count": null,
   "id": "432636f1-029a-4cae-bf6c-cabe6583cf0b",
   "metadata": {},
   "outputs": [],
   "source": [
    "input_str = input(\"please enter the string to be acronymed : \").upper()\n",
    "acronym = \"\".join(word[0] for word in input_str.split())\n",
    "print(acronym)\n",
    "# improved code with same functionality"
   ]
  },
  {
   "cell_type": "code",
   "execution_count": null,
   "id": "c0a5053f-2e0d-46ee-a1c7-af593cbbd2ef",
   "metadata": {},
   "outputs": [],
   "source": []
  },
  {
   "cell_type": "code",
   "execution_count": null,
   "id": "6821125b-4d2a-4348-b89f-82d41480ab81",
   "metadata": {},
   "outputs": [],
   "source": []
  }
 ],
 "metadata": {
  "kernelspec": {
   "display_name": "Python 3 (ipykernel)",
   "language": "python",
   "name": "python3"
  },
  "language_info": {
   "codemirror_mode": {
    "name": "ipython",
    "version": 3
   },
   "file_extension": ".py",
   "mimetype": "text/x-python",
   "name": "python",
   "nbconvert_exporter": "python",
   "pygments_lexer": "ipython3",
   "version": "3.9.13"
  }
 },
 "nbformat": 4,
 "nbformat_minor": 5
}
