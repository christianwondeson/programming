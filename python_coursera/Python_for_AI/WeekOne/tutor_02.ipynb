{
 "cells": [
  {
   "cell_type": "code",
   "execution_count": 14,
   "id": "dc1c148c-24bf-415f-a782-eb4c2233758a",
   "metadata": {},
   "outputs": [
    {
     "name": "stdout",
     "output_type": "stream",
     "text": [
      "number 2 is even\n",
      "number 4 is even\n",
      "number 6 is even\n",
      "number 8 is even\n",
      "number 10 is even\n",
      "number 12 is even\n",
      "number 14 is even\n",
      "number 16 is even\n",
      "number 18 is even\n"
     ]
    }
   ],
   "source": [
    "for num in range(1, 20):\n",
    "    if num % 2 == 0:\n",
    "        print(\"number {} is even\".format(num))\n",
    "    else:\n",
    "        continue\n",
    "        # print(\"number {} is odd\".format(num))"
   ]
  },
  {
   "cell_type": "code",
   "execution_count": null,
   "id": "775dda64-2040-4e10-9ae0-e805e3052b4f",
   "metadata": {},
   "outputs": [],
   "source": [
    "THIS CODE WILL CALCULATE SIMPLE USER INPUT INVESTMENT!!"
   ]
  },
  {
   "cell_type": "code",
   "execution_count": 6,
   "id": "7a69e59f-604b-4bfb-a4c9-90fb52598a4e",
   "metadata": {},
   "outputs": [
    {
     "name": "stdin",
     "output_type": "stream",
     "text": [
      "please enter your money to invest: 1000\n",
      "Please enter interest rate: 5\n"
     ]
    },
    {
     "name": "stdout",
     "output_type": "stream",
     "text": [
      "Money plus interest_rate: 1628.89\n"
     ]
    }
   ],
   "source": [
    "money = input(\"please enter your money to invest:\")\n",
    "interest_rate = input(\"Please enter interest rate:\")\n",
    "\n",
    "money = float(money)\n",
    "interest_rate = float(interest_rate) * .01\n",
    "\n",
    "for year in range(10):\n",
    "    money = money + (money * interest_rate)\n",
    "\n",
    "print(\"Money plus interest_rate: {:.2f}\".format(money))"
   ]
  },
  {
   "cell_type": "code",
   "execution_count": null,
   "id": "29e5bbac-557e-4fd1-bda2-4f8817119ae8",
   "metadata": {},
   "outputs": [],
   "source": [
    "USING WHILE LOOPS IN PYTHON TO FIND RANDOM NUMBER"
   ]
  },
  {
   "cell_type": "code",
   "execution_count": 13,
   "id": "feb18546-4252-405a-9a80-64812474bc46",
   "metadata": {},
   "outputs": [
    {
     "name": "stdout",
     "output_type": "stream",
     "text": [
      "the random value is : 18\n"
     ]
    }
   ],
   "source": [
    "import random\n",
    "\n",
    "random_num = random.randrange(1, 51)\n",
    "\n",
    "i = 1\n",
    "while(i != random_num):\n",
    "    i += 1\n",
    "print(\"the random value is :\", random_num)"
   ]
  },
  {
   "cell_type": "code",
   "execution_count": null,
   "id": "1cf853cd-a26e-46ba-b54e-bcfa42376ba8",
   "metadata": {},
   "outputs": [],
   "source": [
    "LET US PRINT TREE"
   ]
  },
  {
   "cell_type": "code",
   "execution_count": 17,
   "id": "1590cee6-3d43-445f-9211-b57e8e3eae6f",
   "metadata": {},
   "outputs": [
    {
     "name": "stdin",
     "output_type": "stream",
     "text": [
      "Please enter tree height :  5\n"
     ]
    },
    {
     "name": "stdout",
     "output_type": "stream",
     "text": [
      "    #\n",
      "   ###\n",
      "  #####\n",
      " #######\n",
      "#########\n",
      "    #\n"
     ]
    }
   ],
   "source": [
    "tree_height = input(\"Please enter tree height : \")\n",
    "tree_height = int(tree_height)\n",
    "\n",
    "spaces = tree_height - 1\n",
    "\n",
    "hashes = 1\n",
    "\n",
    "stump_space = spaces\n",
    "\n",
    "while tree_height != 0:\n",
    "    for space in range(spaces):\n",
    "        print(\" \", end=\"\")\n",
    "    for hash in range(hashes):\n",
    "        print(\"#\", end=\"\")\n",
    "    print()\n",
    "    spaces -= 1\n",
    "    hashes += 2\n",
    "    tree_height -= 1\n",
    "for i in range(stump_space):\n",
    "    print(\" \", end=\"\")\n",
    "print(\"#\")"
   ]
  },
  {
   "cell_type": "code",
   "execution_count": 5,
   "id": "69f74d2c-9aa0-41c3-84ee-4f2beb2aac26",
   "metadata": {},
   "outputs": [
    {
     "name": "stdin",
     "output_type": "stream",
     "text": [
      "please enter a number b/n 1 and 10 1\n"
     ]
    },
    {
     "name": "stdout",
     "output_type": "stream",
     "text": [
      "you didn't find it! guess again!\n"
     ]
    },
    {
     "name": "stdin",
     "output_type": "stream",
     "text": [
      "please enter a number b/n 1 and 10 5\n"
     ]
    },
    {
     "name": "stdout",
     "output_type": "stream",
     "text": [
      "the number is found congrats!\n"
     ]
    }
   ],
   "source": [
    "the_number = 5\n",
    "while True:\n",
    "    guessed_number = int(input(\"please enter a number b/n 1 and 10\"))\n",
    "    if the_number == guessed_number:\n",
    "        print(\"the number is found congrats!\")\n",
    "        break\n",
    "    else:\n",
    "        print(\"you didn't find it! guess again!\")\n",
    "        continue\n",
    "        "
   ]
  },
  {
   "cell_type": "code",
   "execution_count": 25,
   "id": "157b87f1-a6f9-4e6b-969a-61d5b4e8ad46",
   "metadata": {},
   "outputs": [
    {
     "name": "stdin",
     "output_type": "stream",
     "text": [
      "Please enter your string to convert it to ASCII equivalent:  hide number\n"
     ]
    },
    {
     "name": "stdout",
     "output_type": "stream",
     "text": [
      "[104, 105, 100, 101, 32, 110, 117, 109, 98, 101, 114]\n",
      "hide number\n"
     ]
    }
   ],
   "source": [
    "str_input = input(\"Please enter your string to convert it to ASCII equivalent: \").upper()\n",
    "ascii_equivalent = [ord(char) for char in str_input]\n",
    "print(ascii_equivalent)\n",
    "print(\"\".join(map(chr, ascii_equivalent)))"
   ]
  },
  {
   "cell_type": "code",
   "execution_count": 34,
   "id": "382b452e-d768-4b06-84ee-78dde8767a44",
   "metadata": {},
   "outputs": [
    {
     "name": "stdin",
     "output_type": "stream",
     "text": [
      "please enter the string to be achronymed :  hrle me nigg\n"
     ]
    },
    {
     "name": "stdout",
     "output_type": "stream",
     "text": [
      "HMN\n"
     ]
    }
   ],
   "source": [
    "input_str = input(\"please enter the string to be achronymed : \").upper()\n",
    "\n",
    "list_str = list(input_str)\n",
    "acronym = \"\"\n",
    "for i in range(len(list_str)):\n",
    "    if i == 0:\n",
    "        acronym = list_str[i]\n",
    "    elif list_str[i] == \" \":\n",
    "        acronym += list_str[i + 1]\n",
    "print(acronym)"
   ]
  },
  {
   "cell_type": "code",
   "execution_count": 1,
   "id": "432636f1-029a-4cae-bf6c-cabe6583cf0b",
   "metadata": {},
   "outputs": [
    {
     "name": "stdin",
     "output_type": "stream",
     "text": [
      "please enter the string to be acronymed :  help me migga\n"
     ]
    },
    {
     "name": "stdout",
     "output_type": "stream",
     "text": [
      "HMM\n"
     ]
    }
   ],
   "source": [
    "input_str = input(\"please enter the string to be acronymed : \").upper()\n",
    "acronym = \"\".join(word[0] for word in input_str.split())\n",
    "print(acronym)\n",
    "# improved code with same functionality"
   ]
  },
  {
   "cell_type": "code",
   "execution_count": null,
   "id": "c0a5053f-2e0d-46ee-a1c7-af593cbbd2ef",
   "metadata": {},
   "outputs": [],
   "source": []
  },
  {
   "cell_type": "code",
   "execution_count": 19,
   "id": "6821125b-4d2a-4348-b89f-82d41480ab81",
   "metadata": {},
   "outputs": [
    {
     "name": "stdout",
     "output_type": "stream",
     "text": [
      "<class 'decimal.Decimal'>\n",
      "The Sum : 0.0\n",
      ".1 + .1 + .1 - .3 5.551115123125783e-17\n"
     ]
    }
   ],
   "source": [
    "from decimal import Decimal as D\n",
    "sum = D(0)\n",
    "print(type(sum))\n",
    "sum += D(\"0.1\")\n",
    "sum += D(\"0.1\")\n",
    "sum += D(\"0.1\")\n",
    "sum -= D(\"0.3\")\n",
    "print(\"The Sum : {}\".format(sum))\n",
    "print(\".1 + .1 + .1 - .3\", 0.1 + 0.1 + 0.1 - 0.3)\n",
    "\n",
    "\n"
   ]
  },
  {
   "cell_type": "code",
   "execution_count": 30,
   "id": "9d4bd26d-fc9f-4cef-a601-a937bc83269a",
   "metadata": {},
   "outputs": [
    {
     "name": "stdout",
     "output_type": "stream",
     "text": [
      "It seems this value can't be converted : z\n",
      "\n",
      "This value can be converted to float value 3.14\n",
      "\n",
      "It seems this value can't be converted : .\n",
      "\n",
      "This value can be converted to float value 2\n",
      "\n"
     ]
    }
   ],
   "source": [
    "checker = [\"z\", \"3.14\", \".\", 2]\n",
    "\n",
    "def isFloat(values):\n",
    "    for value in values:\n",
    "        try:\n",
    "            float(value)\n",
    "            print(\"This value can be converted to float value {}\\n\".format(value))\n",
    "            continue\n",
    "            return True\n",
    "        except ValueError:\n",
    "            print(\"It seems this value can't be converted : {}\\n\".format(value))\n",
    "            continue\n",
    "            return False\n",
    "isFloat(checker)"
   ]
  },
  {
   "cell_type": "code",
   "execution_count": 4,
   "id": "d95d978b-0852-4438-b5dc-449f57e93558",
   "metadata": {},
   "outputs": [
    {
     "name": "stdin",
     "output_type": "stream",
     "text": [
      "Enter your message:\n",
      " cisco\n",
      "How many characters should we shift (1-26)?\n",
      " 3\n"
     ]
    },
    {
     "name": "stdout",
     "output_type": "stream",
     "text": [
      "Encrypted: flvfr\n",
      "Decrypted: cisco\n"
     ]
    }
   ],
   "source": [
    "# ecrypting input message\n",
    "\n",
    "message = input(\"Enter your message:\\n\")\n",
    "key = int(input(\"How many characters should we shift (1-26)?\\n\"))\n",
    "\n",
    "def shift_char(char, key):\n",
    "    if char.isalpha():\n",
    "        if char.isupper():\n",
    "            return chr((ord(char) - ord('A') + key) % 26 + ord('A'))\n",
    "        else:\n",
    "            return chr((ord(char) - ord('a') + key) % 26 + ord('a'))\n",
    "    else:\n",
    "        return char\n",
    "\n",
    "secret_message = ''.join(shift_char(char, key) for char in message)\n",
    "print(\"Encrypted:\", secret_message)\n",
    "\n",
    "key = -key  # Inverse key for decryption\n",
    "\n",
    "orig_message = ''.join(shift_char(char, key) for char in secret_message)\n",
    "print(\"Decrypted:\", orig_message)"
   ]
  },
  {
   "cell_type": "code",
   "execution_count": 13,
   "id": "0a6e535f-31fa-41dd-8300-57d1a2e5a729",
   "metadata": {},
   "outputs": [
    {
     "name": "stdout",
     "output_type": "stream",
     "text": [
      "Messi\n"
     ]
    }
   ],
   "source": [
    "name = \"CR7\"\n",
    "def change_name():\n",
    "#     this will allow us to use the global version of name\n",
    "    global name\n",
    "    name = \"Messi\"\n",
    "\n",
    "change_name()\n",
    "print(name)\n"
   ]
  },
  {
   "cell_type": "code",
   "execution_count": 15,
   "id": "fc57f757-9569-4c4d-958b-e953028d583b",
   "metadata": {},
   "outputs": [
    {
     "name": "stdout",
     "output_type": "stream",
     "text": [
      "x = 5\n"
     ]
    }
   ],
   "source": [
    "# solve for x\n",
    "def solveForx(equation):\n",
    "    x, add, numOne, equal, numTwo = equation.split()\n",
    "    numOne, numTwo = int(numOne), int(numTwo)\n",
    "    \n",
    "    return \"x = \" + str(numTwo - numOne)\n",
    "print(solveForx(\"x + 4 = 9\"))"
   ]
  },
  {
   "cell_type": "code",
   "execution_count": 25,
   "id": "92e4a44c-5ce4-4c3d-ac23-b5e6617149f0",
   "metadata": {},
   "outputs": [
    {
     "name": "stdin",
     "output_type": "stream",
     "text": [
      "Please enter the max number of prime number to check for: \n",
      " 10\n"
     ]
    },
    {
     "name": "stdout",
     "output_type": "stream",
     "text": [
      "Prime number 0 in the list of 10 is: 2\n",
      "Prime number 1 in the list of 10 is: 3\n",
      "Prime number 2 in the list of 10 is: 5\n",
      "Prime number 3 in the list of 10 is: 7\n"
     ]
    }
   ],
   "source": [
    "def isPrime(num):\n",
    "    if num <= 1:\n",
    "        return False\n",
    "    for i in range(2, num):\n",
    "        if num % i == 0:\n",
    "            return False\n",
    "    return True\n",
    "\n",
    "def getPrimes(max_number):\n",
    "    list_of_primes = []\n",
    "    for num in range(2, max_number):\n",
    "        if isPrime(num):\n",
    "            list_of_primes.append(num)\n",
    "    return list_of_primes\n",
    "\n",
    "max_num_to_check = int(input(\"Please enter the max number of prime number to check for: \\n\"))\n",
    "prime_num_list = getPrimes(max_num_to_check)\n",
    "\n",
    "for index, prime in enumerate(prime_num_list):\n",
    "    print(\"Prime number {} in the list of {} is: {}\".format(index, max_num_to_check, prime))"
   ]
  },
  {
   "cell_type": "code",
   "execution_count": 29,
   "id": "1a05ab50-6de8-4f47-9b38-4d2255332a70",
   "metadata": {},
   "outputs": [
    {
     "name": "stdin",
     "output_type": "stream",
     "text": [
      "Get area for what shape:  triangle\n",
      "Please enter the base of the triangle: \n",
      " 3\n",
      "Please enter the height of the triangle: \n",
      " 4\n"
     ]
    },
    {
     "name": "stdout",
     "output_type": "stream",
     "text": [
      "The area of triangle is: 6.0\n"
     ]
    }
   ],
   "source": [
    "import math\n",
    "\n",
    "def get_area(shape):\n",
    "    \"\"\"\n",
    "    Calculate the area of a shape.\n",
    "\n",
    "    Parameters:\n",
    "        shape (str): The shape for which to calculate the area. Currently supports \"rectangle\" and \"circle\".\n",
    "\n",
    "    Returns:\n",
    "        float: The calculated area of the specified shape.\n",
    "    \"\"\"\n",
    "    shape = shape.lower()\n",
    "    \n",
    "    if shape == \"rectangle\":\n",
    "        return rectangle()  # Return the computed area\n",
    "    elif shape == \"circle\":\n",
    "        return circle()  # Return the computed area\n",
    "    elif shape == \"triangle\":\n",
    "        return triangle()\n",
    "    else:\n",
    "        print(\"Please enter either rectangle or circle\")\n",
    "        return None  # Return None if shape is not recognized\n",
    "\n",
    "def rectangle():\n",
    "    \"\"\"\n",
    "    Calculate the area of a rectangle.\n",
    "\n",
    "    Returns:\n",
    "        float: The calculated area of the rectangle.\n",
    "    \"\"\"\n",
    "    length = float(input(\"Enter the length: \"))\n",
    "    width = float(input(\"Enter the width: \"))\n",
    "    \n",
    "    area = length * width\n",
    "    \n",
    "    return area  # Return the computed area\n",
    "\n",
    "def circle():\n",
    "    \"\"\"\n",
    "    Calculate the area of a circle.\n",
    "\n",
    "    Returns:\n",
    "        float: The calculated area of the circle.\n",
    "    \"\"\"\n",
    "    radius = float(input(\"Please enter the radius of a circle: \"))\n",
    "    \n",
    "    area = math.pi * math.pow(radius, 2)  # Fix the typo here\n",
    "    return f\"{area:.2f}\"  # Return the computed area\n",
    "\n",
    "def triangle():\n",
    "    base = float(input(\"Please enter the base of the triangle: \\n\"))\n",
    "    height = float(input(\"Please enter the height of the triangle: \\n\"))\n",
    "    \n",
    "    area = .5 * (base * height)\n",
    "    \n",
    "    return area\n",
    "\n",
    "def main():\n",
    "    \"\"\"\n",
    "    Main function to get the area of a shape from user input and display the result.\n",
    "    \"\"\"\n",
    "    shape_type = input(\"Get area for what shape: \")\n",
    "    \n",
    "    area = get_area(shape_type)\n",
    "    if area is not None:\n",
    "        print(\"The area of {} is: {}\".format(shape_type, area))\n",
    "\n",
    "main()\n"
   ]
  },
  {
   "cell_type": "code",
   "execution_count": null,
   "id": "9c64f52a-6ebd-4895-8f7b-05fe511f03b9",
   "metadata": {},
   "outputs": [],
   "source": []
  }
 ],
 "metadata": {
  "kernelspec": {
   "display_name": "Python 3 (ipykernel)",
   "language": "python",
   "name": "python3"
  },
  "language_info": {
   "codemirror_mode": {
    "name": "ipython",
    "version": 3
   },
   "file_extension": ".py",
   "mimetype": "text/x-python",
   "name": "python",
   "nbconvert_exporter": "python",
   "pygments_lexer": "ipython3",
   "version": "3.9.13"
  }
 },
 "nbformat": 4,
 "nbformat_minor": 5
}
